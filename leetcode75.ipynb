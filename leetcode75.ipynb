{
 "cells": [
  {
   "cell_type": "markdown",
   "metadata": {},
   "source": [
    "# 1786 Merge Strings Alternately\n",
    "You are given two strings word1 and word2. Merge the strings by adding letters in alternating order, starting with word1. If a string is longer than the other, append the additional letters onto the end of the merged string."
   ]
  },
  {
   "cell_type": "code",
   "execution_count": null,
   "metadata": {},
   "outputs": [],
   "source": [
    "class Solution:\n",
    "    def mergeAlternately(self, word1: str, word2: str) -> str:\n",
    "        new_string = ''\n",
    "        for i in range(max(len(word1),len(word2))):\n",
    "            new_string+=word1[i:i+1]\n",
    "            new_string+=word2[i:i+1]\n",
    "        return new_string\n",
    "    \n",
    "solution = Solution()\n",
    "\n",
    "solution.mergeAlternately('abcd',\"pq\")"
   ]
  },
  {
   "cell_type": "markdown",
   "metadata": {},
   "source": [
    "# 1071. Greatest Common Divisor of Strings\n",
    "For two strings s and t, we say \"t divides s\" if and only if s = t + t + t + ... + t + t (i.e., t is concatenated with itself one or more times).\n",
    "\n",
    "Given two strings str1 and str2, return the largest string x such that x divides both str1 and str2."
   ]
  },
  {
   "cell_type": "code",
   "execution_count": null,
   "metadata": {},
   "outputs": [],
   "source": [
    "class Solution:\n",
    "    def gcdOfStrings(self, str1: str, str2: str) -> str:\n",
    "        min_str = min(str1,str2)\n",
    "        max_str = max(str1,str2)\n",
    "        for i in range(len(min_str),0,-1):\n",
    "            if \"\".join(max_str.split(min_str[:i])) == \"\":\n",
    "                return min_str[:i]\n",
    "        return \"\""
   ]
  },
  {
   "cell_type": "code",
   "execution_count": null,
   "metadata": {},
   "outputs": [],
   "source": [
    "str1 = \"TAUXXTAUXXTAUXXTAUXXTAUXX\"\n",
    "str2 = \"TAUXXTAUXXTAUXXTAUXXTAUXXTAUXXTAUXXTAUXXTAUXX\"\n",
    "\n",
    "solution = Solution()\n",
    "solution.gcdOfStrings(str1,str2)"
   ]
  },
  {
   "cell_type": "markdown",
   "metadata": {},
   "source": [
    "# 1431. Kids With the Greatest Number of Candies\n",
    "\n",
    "There are n kids with candies. You are given an integer array candies, where each candies[i] represents the number of candies the ith kid has, and an integer extraCandies, denoting the number of extra candies that you have.\n",
    "\n",
    "Return a boolean array result of length n, where result[i] is true if, after giving the ith kid all the extraCandies, they will have the greatest number of candies among all the kids, or false otherwise.\n",
    "\n",
    "Note that multiple kids can have the greatest number of candies."
   ]
  },
  {
   "cell_type": "code",
   "execution_count": 55,
   "metadata": {},
   "outputs": [],
   "source": [
    "import numpy as np\n",
    "class Solution:\n",
    "    def kidsWithCandies(self, candies: list[int], extraCandies: int) -> list[bool]:\n",
    "        candies = np.array(candies)\n",
    "        max_elem = np.max(candies)\n",
    "\n",
    "        candies = candies + extraCandies\n",
    "        \n",
    "        return (candies >= max_elem).tolist()\n",
    "        "
   ]
  },
  {
   "cell_type": "code",
   "execution_count": null,
   "metadata": {},
   "outputs": [
    {
     "data": {
      "text/plain": [
       "bool"
      ]
     },
     "execution_count": 56,
     "metadata": {},
     "output_type": "execute_result"
    }
   ],
   "source": [
    "candies = [2,3,5,1,3]\n",
    "extraCandies = 3\n",
    "\n",
    "solution = Solution()\n",
    "solution.kidsWithCandies(candies,extraCandies)"
   ]
  },
  {
   "cell_type": "markdown",
   "metadata": {},
   "source": [
    "# 605. Can Place Flowers\n",
    "You have a long flowerbed in which some of the plots are planted, and some are not. However, flowers cannot be planted in adjacent plots.\n",
    "\n",
    "Given an integer array flowerbed containing 0's and 1's, where 0 means empty and 1 means not empty, and an integer n, return true if n new flowers can be planted in the flowerbed without violating the no-adjacent-flowers rule and false otherwise."
   ]
  },
  {
   "cell_type": "code",
   "execution_count": null,
   "metadata": {},
   "outputs": [
    {
     "name": "stdout",
     "output_type": "stream",
     "text": [
      "[0 0 1]\n",
      "[0 1 0]\n",
      "[0 1]\n"
     ]
    },
    {
     "data": {
      "text/plain": [
       "False"
      ]
     },
     "execution_count": 185,
     "metadata": {},
     "output_type": "execute_result"
    }
   ],
   "source": [
    "class Solution:\n",
    "    def canPlaceFlowers(self, flowerbed: list[int], n: int) -> bool:\n",
    "        flowerbed = np.array(flowerbed)\n",
    "        flowersum_before = flowerbed.sum()\n",
    "\n",
    "        flowerbed_length = len(flowerbed)\n",
    "\n",
    "        if flowerbed_length < 2:\n",
    "            if flowerbed[0] == 0:\n",
    "                return 1 >= n\n",
    "            else:\n",
    "                return 0 >= n\n",
    "        if flowerbed_length == 2:\n",
    "            if flowerbed[0] == 0 and flowerbed[1] == 0:\n",
    "                return 1 >= n\n",
    "            else:\n",
    "                return 0 >= n\n",
    "\n",
    "        if flowerbed[-2] == 0 and flowerbed[-1] == 0:\n",
    "            flowerbed[-1] = 1\n",
    "        if flowerbed[0] == 0 and flowerbed[1] == 0:\n",
    "            flowerbed[0] = 1\n",
    "\n",
    "        for i in range(1,flowerbed_length-1):\n",
    "            if flowerbed[i+1] == 0 and flowerbed[i-1] == 0:\n",
    "                flowerbed[i] = 1\n",
    "\n",
    "        flowersum_after = flowerbed.sum()\n",
    "        new_flowers = flowersum_after-flowersum_before\n",
    "        \n",
    "solution = Solution()\n",
    "flowerbed = [1]\n",
    "\n",
    "n = 1\n",
    "solution.canPlaceFlowers(flowerbed,n)"
   ]
  },
  {
   "cell_type": "markdown",
   "metadata": {},
   "source": [
    "# 345. Reverse Vowels of a String\n",
    "Given a string s, reverse only all the vowels in the string and return it.\n",
    "\n",
    "The vowels are 'a', 'e', 'i', 'o', and 'u', and they can appear in both lower and upper cases, more than once."
   ]
  },
  {
   "cell_type": "code",
   "execution_count": null,
   "metadata": {},
   "outputs": [
    {
     "data": {
      "text/plain": [
       "'AceCreIm'"
      ]
     },
     "execution_count": 234,
     "metadata": {},
     "output_type": "execute_result"
    }
   ],
   "source": [
    "class Solution:\n",
    "    def reverseVowels(self, s: str) -> str:\n",
    "        vowels = {'a','e','i','o','u',\"A\",\"E\",\"I\",\"O\",\"U\"}\n",
    "        s = list(s)\n",
    "\n",
    "        vowels_extracted = []\n",
    "        vowels_extracted_idx = []\n",
    "\n",
    "        for idx,letter in enumerate(s):\n",
    "            if letter in vowels:\n",
    "                vowels_extracted.append(letter)\n",
    "                vowels_extracted_idx.append(idx)\n",
    "\n",
    "        vowels_extracted = list(reversed(vowels_extracted))\n",
    "\n",
    "        for idx,idx_extract in enumerate(vowels_extracted_idx):\n",
    "            s[idx_extract] = vowels_extracted[idx]\n",
    "        return \"\".join(s)\n",
    "    \n",
    "S = \"IceCreAm\"\n",
    "solution = Solution()\n",
    "solution.reverseVowels(S)\n"
   ]
  },
  {
   "cell_type": "markdown",
   "metadata": {},
   "source": [
    "# 151. Reverse Words in a String\n",
    "Given an input string s, reverse the order of the words.\n",
    "\n",
    "A word is defined as a sequence of non-space characters. The words in s will be separated by at least one space.\n",
    "\n",
    "Return a string of the words in reverse order concatenated by a single space.\n",
    "\n",
    "Note that s may contain leading or trailing spaces or multiple spaces between two words. The returned string should only have a single space separating the words. Do not include any extra spaces."
   ]
  },
  {
   "cell_type": "code",
   "execution_count": 238,
   "metadata": {},
   "outputs": [
    {
     "data": {
      "text/plain": [
       "'good'"
      ]
     },
     "execution_count": 238,
     "metadata": {},
     "output_type": "execute_result"
    }
   ],
   "source": [
    "class Solution:\n",
    "    def reverseWords(self, s: str) -> str:\n",
    "        s = s.strip().split()\n",
    "        s = reversed(s)\n",
    "        return \" \".join(s)\n",
    "\n",
    "s = \"good\"  \n",
    "solution = Solution()\n",
    "solution.reverseWords(s)"
   ]
  },
  {
   "cell_type": "code",
   "execution_count": null,
   "metadata": {},
   "outputs": [],
   "source": [
    "s = \"the sky is blue\"\n"
   ]
  },
  {
   "cell_type": "code",
   "execution_count": null,
   "metadata": {},
   "outputs": [],
   "source": []
  },
  {
   "cell_type": "code",
   "execution_count": null,
   "metadata": {},
   "outputs": [],
   "source": []
  },
  {
   "cell_type": "code",
   "execution_count": null,
   "metadata": {},
   "outputs": [],
   "source": []
  },
  {
   "cell_type": "code",
   "execution_count": null,
   "metadata": {},
   "outputs": [],
   "source": []
  },
  {
   "cell_type": "code",
   "execution_count": null,
   "metadata": {},
   "outputs": [],
   "source": []
  }
 ],
 "metadata": {
  "kernelspec": {
   "display_name": "base",
   "language": "python",
   "name": "python3"
  },
  "language_info": {
   "codemirror_mode": {
    "name": "ipython",
    "version": 3
   },
   "file_extension": ".py",
   "mimetype": "text/x-python",
   "name": "python",
   "nbconvert_exporter": "python",
   "pygments_lexer": "ipython3",
   "version": "3.12.4"
  }
 },
 "nbformat": 4,
 "nbformat_minor": 2
}
