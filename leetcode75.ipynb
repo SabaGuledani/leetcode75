{
 "cells": [
  {
   "cell_type": "markdown",
   "metadata": {},
   "source": [
    "# 1786 Merge Strings Alternately\n",
    "You are given two strings word1 and word2. Merge the strings by adding letters in alternating order, starting with word1. If a string is longer than the other, append the additional letters onto the end of the merged string."
   ]
  },
  {
   "cell_type": "code",
   "execution_count": 83,
   "metadata": {},
   "outputs": [
    {
     "data": {
      "text/plain": [
       "'apbqcd'"
      ]
     },
     "execution_count": 83,
     "metadata": {},
     "output_type": "execute_result"
    }
   ],
   "source": [
    "class Solution:\n",
    "    def mergeAlternately(self, word1: str, word2: str) -> str:\n",
    "        new_string = ''\n",
    "        for i in range(max(len(word1),len(word2))):\n",
    "            new_string+=word1[i:i+1]\n",
    "            new_string+=word2[i:i+1]\n",
    "        return new_string\n",
    "    \n",
    "solution = Solution()\n",
    "\n",
    "solution.mergeAlternately('abcd',\"pq\")"
   ]
  },
  {
   "cell_type": "markdown",
   "metadata": {},
   "source": [
    "# 1071. Greatest Common Divisor of Strings\n",
    "For two strings s and t, we say \"t divides s\" if and only if s = t + t + t + ... + t + t (i.e., t is concatenated with itself one or more times).\n",
    "\n",
    "Given two strings str1 and str2, return the largest string x such that x divides both str1 and str2."
   ]
  },
  {
   "cell_type": "code",
   "execution_count": 84,
   "metadata": {},
   "outputs": [],
   "source": [
    "class Solution:\n",
    "    def gcdOfStrings(self, str1: str, str2: str) -> str:\n",
    "        min_str = min(str1,str2)\n",
    "        max_str = max(str1,str2)\n",
    "        for i in range(len(min_str),0,-1):\n",
    "            if \"\".join(max_str.split(min_str[:i])) == \"\":\n",
    "                return min_str[:i]\n",
    "        return \"\""
   ]
  },
  {
   "cell_type": "code",
   "execution_count": 85,
   "metadata": {},
   "outputs": [
    {
     "data": {
      "text/plain": [
       "'TAUXXTAUXXTAUXX'"
      ]
     },
     "execution_count": 85,
     "metadata": {},
     "output_type": "execute_result"
    }
   ],
   "source": [
    "str1 = \"TAUXXTAUXXTAUXXTAUXXTAUXX\"\n",
    "str2 = \"TAUXXTAUXXTAUXXTAUXXTAUXXTAUXXTAUXXTAUXXTAUXX\"\n",
    "\n",
    "solution = Solution()\n",
    "solution.gcdOfStrings(str1,str2)"
   ]
  },
  {
   "cell_type": "markdown",
   "metadata": {},
   "source": [
    "# 1431. Kids With the Greatest Number of Candies\n",
    "\n",
    "There are n kids with candies. You are given an integer array candies, where each candies[i] represents the number of candies the ith kid has, and an integer extraCandies, denoting the number of extra candies that you have.\n",
    "\n",
    "Return a boolean array result of length n, where result[i] is true if, after giving the ith kid all the extraCandies, they will have the greatest number of candies among all the kids, or false otherwise.\n",
    "\n",
    "Note that multiple kids can have the greatest number of candies."
   ]
  },
  {
   "cell_type": "code",
   "execution_count": 86,
   "metadata": {},
   "outputs": [],
   "source": [
    "import numpy as np\n",
    "class Solution:\n",
    "    def kidsWithCandies(self, candies: list[int], extraCandies: int) -> list[bool]:\n",
    "        candies = np.array(candies)\n",
    "        max_elem = np.max(candies)\n",
    "\n",
    "        candies = candies + extraCandies\n",
    "        \n",
    "        return (candies >= max_elem).tolist()\n",
    "        "
   ]
  },
  {
   "cell_type": "code",
   "execution_count": 87,
   "metadata": {},
   "outputs": [
    {
     "data": {
      "text/plain": [
       "[True, True, True, False, True]"
      ]
     },
     "execution_count": 87,
     "metadata": {},
     "output_type": "execute_result"
    }
   ],
   "source": [
    "candies = [2,3,5,1,3]\n",
    "extraCandies = 3\n",
    "\n",
    "solution = Solution()\n",
    "solution.kidsWithCandies(candies,extraCandies)"
   ]
  },
  {
   "cell_type": "markdown",
   "metadata": {},
   "source": [
    "# 605. Can Place Flowers\n",
    "You have a long flowerbed in which some of the plots are planted, and some are not. However, flowers cannot be planted in adjacent plots.\n",
    "\n",
    "Given an integer array flowerbed containing 0's and 1's, where 0 means empty and 1 means not empty, and an integer n, return true if n new flowers can be planted in the flowerbed without violating the no-adjacent-flowers rule and false otherwise."
   ]
  },
  {
   "cell_type": "code",
   "execution_count": 88,
   "metadata": {},
   "outputs": [
    {
     "data": {
      "text/plain": [
       "False"
      ]
     },
     "execution_count": 88,
     "metadata": {},
     "output_type": "execute_result"
    }
   ],
   "source": [
    "class Solution:\n",
    "    def canPlaceFlowers(self, flowerbed: list[int], n: int) -> bool:\n",
    "        flowerbed = np.array(flowerbed)\n",
    "        flowersum_before = flowerbed.sum()\n",
    "\n",
    "        flowerbed_length = len(flowerbed)\n",
    "\n",
    "        if flowerbed_length < 2:\n",
    "            if flowerbed[0] == 0:\n",
    "                return 1 >= n\n",
    "            else:\n",
    "                return 0 >= n\n",
    "        if flowerbed_length == 2:\n",
    "            if flowerbed[0] == 0 and flowerbed[1] == 0:\n",
    "                return 1 >= n\n",
    "            else:\n",
    "                return 0 >= n\n",
    "\n",
    "        if flowerbed[-2] == 0 and flowerbed[-1] == 0:\n",
    "            flowerbed[-1] = 1\n",
    "        if flowerbed[0] == 0 and flowerbed[1] == 0:\n",
    "            flowerbed[0] = 1\n",
    "\n",
    "        for i in range(1,flowerbed_length-1):\n",
    "            if flowerbed[i+1] == 0 and flowerbed[i-1] == 0:\n",
    "                flowerbed[i] = 1\n",
    "\n",
    "        flowersum_after = flowerbed.sum()\n",
    "        new_flowers = flowersum_after-flowersum_before\n",
    "        \n",
    "solution = Solution()\n",
    "flowerbed = [1]\n",
    "\n",
    "n = 1\n",
    "solution.canPlaceFlowers(flowerbed,n)"
   ]
  },
  {
   "cell_type": "markdown",
   "metadata": {},
   "source": [
    "# 345. Reverse Vowels of a String\n",
    "Given a string s, reverse only all the vowels in the string and return it.\n",
    "\n",
    "The vowels are 'a', 'e', 'i', 'o', and 'u', and they can appear in both lower and upper cases, more than once."
   ]
  },
  {
   "cell_type": "code",
   "execution_count": 89,
   "metadata": {},
   "outputs": [
    {
     "data": {
      "text/plain": [
       "'AceCreIm'"
      ]
     },
     "execution_count": 89,
     "metadata": {},
     "output_type": "execute_result"
    }
   ],
   "source": [
    "class Solution:\n",
    "    def reverseVowels(self, s: str) -> str:\n",
    "        vowels = {'a','e','i','o','u',\"A\",\"E\",\"I\",\"O\",\"U\"}\n",
    "        s = list(s)\n",
    "\n",
    "        vowels_extracted = []\n",
    "        vowels_extracted_idx = []\n",
    "\n",
    "        for idx,letter in enumerate(s):\n",
    "            if letter in vowels:\n",
    "                vowels_extracted.append(letter)\n",
    "                vowels_extracted_idx.append(idx)\n",
    "\n",
    "        vowels_extracted = list(reversed(vowels_extracted))\n",
    "\n",
    "        for idx,idx_extract in enumerate(vowels_extracted_idx):\n",
    "            s[idx_extract] = vowels_extracted[idx]\n",
    "        return \"\".join(s)\n",
    "    \n",
    "S = \"IceCreAm\"\n",
    "solution = Solution()\n",
    "solution.reverseVowels(S)\n"
   ]
  },
  {
   "cell_type": "markdown",
   "metadata": {},
   "source": [
    "# 151. Reverse Words in a String\n",
    "Given an input string s, reverse the order of the words.\n",
    "\n",
    "A word is defined as a sequence of non-space characters. The words in s will be separated by at least one space.\n",
    "\n",
    "Return a string of the words in reverse order concatenated by a single space.\n",
    "\n",
    "Note that s may contain leading or trailing spaces or multiple spaces between two words. The returned string should only have a single space separating the words. Do not include any extra spaces."
   ]
  },
  {
   "cell_type": "code",
   "execution_count": 90,
   "metadata": {},
   "outputs": [
    {
     "data": {
      "text/plain": [
       "'good'"
      ]
     },
     "execution_count": 90,
     "metadata": {},
     "output_type": "execute_result"
    }
   ],
   "source": [
    "class Solution:\n",
    "    def reverseWords(self, s: str) -> str:\n",
    "        s = s.strip().split()\n",
    "        s = reversed(s)\n",
    "        return \" \".join(s)\n",
    "\n",
    "s = \"good\"  \n",
    "solution = Solution()\n",
    "solution.reverseWords(s)"
   ]
  },
  {
   "cell_type": "markdown",
   "metadata": {},
   "source": [
    "# 238. Product of Array Except Self\n",
    "Given an integer array nums, return an array answer such that answer[i] is equal to the product of all the elements of nums except nums[i].\n",
    "\n",
    "The product of any prefix or suffix of nums is guaranteed to fit in a 32-bit integer.\n",
    "\n",
    "You must write an algorithm that runs in O(n) time and without using the division operation."
   ]
  },
  {
   "cell_type": "code",
   "execution_count": 91,
   "metadata": {},
   "outputs": [
    {
     "data": {
      "text/plain": [
       "[24, 12, 8, 6]"
      ]
     },
     "execution_count": 91,
     "metadata": {},
     "output_type": "execute_result"
    }
   ],
   "source": [
    "import numpy as np\n",
    "class Solution:\n",
    "    def productExceptSelf(self, nums: list[int]) -> list[int]:\n",
    "        \n",
    "        prefix = np.array(self.calculate_prefix(nums))\n",
    "        suffix = np.array(self.calculate_suffix(nums))\n",
    "\n",
    "        return list(prefix * suffix)\n",
    "\n",
    "    def calculate_prefix(self, nums: list[int]) -> list[int]:\n",
    "        n = len(nums)\n",
    "        prefix = [1] * n  # Initialize prefix array\n",
    "\n",
    "        for i in range(1, n):\n",
    "            prefix[i] = prefix[i - 1] * nums[i - 1]\n",
    "            \n",
    "        return prefix\n",
    "\n",
    "    def calculate_suffix(self, nums: list[int]) -> list[int]:\n",
    "        n = len(nums)\n",
    "        suffix = [1] * n\n",
    "        \n",
    "        for i in range(n-2,-1,-1):\n",
    "            suffix[i] = suffix[i+1] * nums[i+1]\n",
    "        return suffix\n",
    "\n",
    "\n",
    "nums = [1,2,3,4] \n",
    "solution = Solution()\n",
    "solution.productExceptSelf(nums)\n"
   ]
  },
  {
   "cell_type": "markdown",
   "metadata": {},
   "source": [
    "# 334. Increasing Triplet Subsequence\n",
    "Given an integer array nums, return true if there exists a triple of indices (i, j, k) such that i < j < k and nums[i] < nums[j] < nums[k]. If no such indices exists, return false."
   ]
  },
  {
   "cell_type": "code",
   "execution_count": null,
   "metadata": {},
   "outputs": [
    {
     "ename": "NameError",
     "evalue": "name 'List' is not defined",
     "output_type": "error",
     "traceback": [
      "\u001b[1;31m---------------------------------------------------------------------------\u001b[0m",
      "\u001b[1;31mNameError\u001b[0m                                 Traceback (most recent call last)",
      "Cell \u001b[1;32mIn[92], line 3\u001b[0m\n\u001b[0;32m      1\u001b[0m \u001b[38;5;28;01mfrom\u001b[39;00m \u001b[38;5;21;01mmath\u001b[39;00m \u001b[38;5;28;01mimport\u001b[39;00m inf\n\u001b[1;32m----> 3\u001b[0m \u001b[38;5;28;01mclass\u001b[39;00m \u001b[38;5;21;01mSolution\u001b[39;00m:\n\u001b[0;32m      4\u001b[0m     \u001b[38;5;28;01mdef\u001b[39;00m \u001b[38;5;21mincreasingTriplet\u001b[39m(\u001b[38;5;28mself\u001b[39m, nums: List[\u001b[38;5;28mint\u001b[39m]) \u001b[38;5;241m-\u001b[39m\u001b[38;5;241m>\u001b[39m \u001b[38;5;28mbool\u001b[39m:\n\u001b[0;32m      5\u001b[0m         first \u001b[38;5;241m=\u001b[39m inf\n",
      "Cell \u001b[1;32mIn[92], line 4\u001b[0m, in \u001b[0;36mSolution\u001b[1;34m()\u001b[0m\n\u001b[0;32m      3\u001b[0m \u001b[38;5;28;01mclass\u001b[39;00m \u001b[38;5;21;01mSolution\u001b[39;00m:\n\u001b[1;32m----> 4\u001b[0m     \u001b[38;5;28;01mdef\u001b[39;00m \u001b[38;5;21mincreasingTriplet\u001b[39m(\u001b[38;5;28mself\u001b[39m, nums: List[\u001b[38;5;28mint\u001b[39m]) \u001b[38;5;241m-\u001b[39m\u001b[38;5;241m>\u001b[39m \u001b[38;5;28mbool\u001b[39m:\n\u001b[0;32m      5\u001b[0m         first \u001b[38;5;241m=\u001b[39m inf\n\u001b[0;32m      6\u001b[0m         second \u001b[38;5;241m=\u001b[39m inf\n",
      "\u001b[1;31mNameError\u001b[0m: name 'List' is not defined"
     ]
    }
   ],
   "source": [
    "from math import inf\n",
    "\n",
    "class Solution:\n",
    "    def increasingTriplet(self, nums: list[int]) -> bool:\n",
    "        first = inf\n",
    "        second = inf\n",
    "\n",
    "        for third in nums:\n",
    "            if third > second:\n",
    "                if third > first:\n",
    "                    if first<second:\n",
    "                        return True\n",
    "                    else:\n",
    "                        second = third\n",
    "            elif third <= second:\n",
    "                if third > first:\n",
    "                    second = third\n",
    "                elif third < first:\n",
    "                    first = third\n",
    "        return False\n",
    "numst1 = [1,2,3,4,5]\n",
    "solution = Solution()\n",
    "\n",
    "solution.increasingTriplet(numst1)"
   ]
  },
  {
   "cell_type": "markdown",
   "metadata": {},
   "source": [
    "# 443. String Compression\n",
    "Given an array of characters chars, compress it using the following algorithm:\n",
    "\n",
    "Begin with an empty string s. For each group of consecutive repeating characters in chars:\n",
    "\n",
    "If the group's length is 1, append the character to s.\n",
    "Otherwise, append the character followed by the group's length.\n",
    "The compressed string s should not be returned separately, but instead, be stored in the input character array chars. Note that group lengths that are 10 or longer will be split into multiple characters in chars.\n",
    "\n",
    "After you are done modifying the input array, return the new length of the array.\n",
    "\n",
    "You must write an algorithm that uses only constant extra space."
   ]
  },
  {
   "cell_type": "code",
   "execution_count": null,
   "metadata": {},
   "outputs": [
    {
     "data": {
      "text/plain": [
       "6"
      ]
     },
     "execution_count": 455,
     "metadata": {},
     "output_type": "execute_result"
    }
   ],
   "source": [
    "class Solution:\n",
    "    def compress(self, chars: list[str]) -> int:\n",
    "        write_idx = 0\n",
    "        i = 0\n",
    "        while i < len(chars):\n",
    "            char_to_compress = chars[i]\n",
    "            counter = 0\n",
    "\n",
    "            while i < len(chars) and char_to_compress == chars[i]:\n",
    "                counter += 1\n",
    "                i +=1\n",
    "\n",
    "            chars[write_idx] = char_to_compress\n",
    "            write_idx += 1\n",
    "            if counter > 1:\n",
    "                for digit in str(counter):\n",
    "                    chars[write_idx]  = digit\n",
    "                    write_idx += 1\n",
    "        return write_idx\n",
    "\n",
    "                    \n",
    "\n",
    "            \n",
    "\n",
    "chars = [\"a\",\"a\",\"b\",\"b\",\"c\",\"c\",\"c\"]\n",
    "solution = Solution()\n",
    "solution.compress(chars)"
   ]
  },
  {
   "cell_type": "markdown",
   "metadata": {},
   "source": [
    "# 283. Move Zeroes\n",
    "Given an integer array nums, move all 0's to the end of it while maintaining the relative order of the non-zero elements.\n",
    "\n",
    "Note that you must do this in-place without making a copy of the array."
   ]
  },
  {
   "cell_type": "code",
   "execution_count": null,
   "metadata": {},
   "outputs": [],
   "source": [
    "class Solution:\n",
    "    def moveZeroes(self, nums: list[int]) -> None:\n",
    "        \"\"\"\n",
    "        Do not return anything, modify nums in-place instead.\n",
    "        \"\"\"\n",
    "        left = 0\n",
    "        \n",
    "\n",
    "        for right in range(len(nums)):\n",
    "            \n",
    "            if nums[right] !=0:\n",
    "                self.swap(nums,left,right)\n",
    "                left+=1\n",
    "    def swap(self,array,left,right):\n",
    "        temp = array[right]\n",
    "        array[right] = array[left]\n",
    "        array[left] = temp\n"
   ]
  },
  {
   "cell_type": "code",
   "execution_count": 122,
   "metadata": {},
   "outputs": [
    {
     "name": "stdout",
     "output_type": "stream",
     "text": [
      "[0, 1, 0, 0, 0, 3, 12]\n",
      "[0, 1, 0, 0, 0, 3, 12]\n",
      "[1, 0, 0, 0, 0, 3, 12]\n",
      "[1, 0, 0, 0, 0, 3, 12]\n",
      "[1, 0, 0, 0, 0, 3, 12]\n",
      "[1, 0, 0, 0, 0, 3, 12]\n",
      "[1, 3, 0, 0, 0, 0, 12]\n",
      "[1, 3, 12, 0, 0, 0, 0]\n"
     ]
    }
   ],
   "source": [
    "solution = Solution()\n",
    "nums = [0,1,0,0,0,3,12]\n",
    "solution.moveZeroes(nums)\n",
    "print(nums)"
   ]
  },
  {
   "cell_type": "markdown",
   "metadata": {},
   "source": [
    "# 392. Is Subsequence\n",
    "Given two strings s and t, return true if s is a subsequence of t, or false otherwise.\n",
    "\n",
    "A subsequence of a string is a new string that is formed from the original string by deleting some (can be none) of the characters without disturbing the relative positions of the remaining characters. (i.e., \"ace\" is a subsequence of \"abcde\" while \"aec\" is not)."
   ]
  },
  {
   "cell_type": "code",
   "execution_count": 147,
   "metadata": {},
   "outputs": [
    {
     "data": {
      "text/plain": [
       "True"
      ]
     },
     "execution_count": 147,
     "metadata": {},
     "output_type": "execute_result"
    }
   ],
   "source": [
    "class Solution:\n",
    "    def isSubsequence(self, s: str, t: str) -> bool:\n",
    "        i = 0\n",
    "        s_i = 0\n",
    "        s_n =  len(s)\n",
    "        if s_n == 0:\n",
    "            return True\n",
    "        \n",
    "        while i < len(t) and s_i < s_n:\n",
    "            if t[i] == s[s_i]:\n",
    "                s_i+=1\n",
    "                \n",
    "            i+=1\n",
    "        return s_i == s_n\n",
    "    \n",
    "\n",
    "s= \"b\"\n",
    "t = \"abc\"\n",
    "solution = Solution()\n",
    "\n",
    "solution.isSubsequence(s,t)"
   ]
  },
  {
   "cell_type": "markdown",
   "metadata": {},
   "source": [
    "# 11. Container With Most Water\n",
    "You are given an integer array height of length n. There are n vertical lines drawn such that the two endpoints of the ith line are (i, 0) and (i, height[i]).\n",
    "\n",
    "Find two lines that together with the x-axis form a container, such that the container contains the most water.\n",
    "\n",
    "Return the maximum amount of water a container can store.\n",
    "\n",
    "Notice that you may not slant the container.\n",
    "\n",
    " "
   ]
  },
  {
   "cell_type": "code",
   "execution_count": null,
   "metadata": {},
   "outputs": [],
   "source": []
  }
 ],
 "metadata": {
  "kernelspec": {
   "display_name": "base",
   "language": "python",
   "name": "python3"
  },
  "language_info": {
   "codemirror_mode": {
    "name": "ipython",
    "version": 3
   },
   "file_extension": ".py",
   "mimetype": "text/x-python",
   "name": "python",
   "nbconvert_exporter": "python",
   "pygments_lexer": "ipython3",
   "version": "3.12.4"
  }
 },
 "nbformat": 4,
 "nbformat_minor": 2
}
